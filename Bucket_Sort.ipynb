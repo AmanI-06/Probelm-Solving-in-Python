{
  "nbformat": 4,
  "nbformat_minor": 0,
  "metadata": {
    "colab": {
      "name": "Bucket Sort",
      "provenance": [],
      "authorship_tag": "ABX9TyOc+7VSbI8kxYD3Q61p22IB",
      "include_colab_link": true
    },
    "kernelspec": {
      "name": "python3",
      "display_name": "Python 3"
    }
  },
  "cells": [
    {
      "cell_type": "markdown",
      "metadata": {
        "id": "view-in-github",
        "colab_type": "text"
      },
      "source": [
        "<a href=\"https://colab.research.google.com/github/AmanI-06/Probelm-Solving-in-Python/blob/master/Bucket_Sort.ipynb\" target=\"_parent\"><img src=\"https://colab.research.google.com/assets/colab-badge.svg\" alt=\"Open In Colab\"/></a>"
      ]
    },
    {
      "cell_type": "code",
      "metadata": {
        "id": "MnvUv6ruJItj",
        "colab_type": "code",
        "colab": {
          "base_uri": "https://localhost:8080/",
          "height": 51
        },
        "outputId": "b9b718e2-9a3a-451a-857b-4e62c811b796"
      },
      "source": [
        "def bucket_sort(bucklist):\n",
        "    largest = max(bucklist)\n",
        "    length = len(bucklist)\n",
        "    size = largest/length\n",
        " \n",
        "    buckets = [[] for _ in range(length)]\n",
        "    for i in range(length):\n",
        "        j = int(bucklist[i]/size)\n",
        "        if j != length:\n",
        "            buckets[j].append(bucklist[i])\n",
        "        else:\n",
        "            buckets[length - 1].append(bucklist[i])\n",
        " \n",
        "    for i in range(length):\n",
        "        insertion_sort(buckets[i])\n",
        " \n",
        "    result = []\n",
        "    for i in range(length):\n",
        "        result = result + buckets[i]\n",
        " \n",
        "    return result\n",
        " \n",
        "def insertion_sort(bucklist):\n",
        "    for i in range(1, len(bucklist)):\n",
        "        temp = bucklist[i]\n",
        "        j = i - 1\n",
        "        while (j >= 0 and temp < bucklist[j]):\n",
        "            bucklist[j + 1] = bucklist[j]\n",
        "            j = j - 1\n",
        "        bucklist[j + 1] = temp\n",
        " \n",
        " \n",
        "bucklist = input('Enter the list of (nonnegative) numbers: ').split()\n",
        "bucklist = [int(x) for x in bucklist]\n",
        "sorted_list = bucket_sort(bucklist)\n",
        "print('Sorted list: ', end='')\n",
        "print(sorted_list)\n"
      ],
      "execution_count": null,
      "outputs": [
        {
          "output_type": "stream",
          "text": [
            "Enter the list of (nonnegative) numbers: 9 19 26 69 6 13 22\n",
            "Sorted list: [6, 9, 13, 19, 22, 26, 69]\n"
          ],
          "name": "stdout"
        }
      ]
    }
  ]
}