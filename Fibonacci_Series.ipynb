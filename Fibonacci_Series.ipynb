{
  "nbformat": 4,
  "nbformat_minor": 0,
  "metadata": {
    "colab": {
      "name": "Fibonacci Series",
      "provenance": [],
      "authorship_tag": "ABX9TyOrJ1FHG6QniV5YYRduYrLE",
      "include_colab_link": true
    },
    "kernelspec": {
      "name": "python3",
      "display_name": "Python 3"
    }
  },
  "cells": [
    {
      "cell_type": "markdown",
      "metadata": {
        "id": "view-in-github",
        "colab_type": "text"
      },
      "source": [
        "<a href=\"https://colab.research.google.com/github/AmanI-06/Probelm-Solving-in-Python/blob/master/Fibonacci_Series.ipynb\" target=\"_parent\"><img src=\"https://colab.research.google.com/assets/colab-badge.svg\" alt=\"Open In Colab\"/></a>"
      ]
    },
    {
      "cell_type": "code",
      "metadata": {
        "id": "4bmWdX43v7fZ",
        "colab_type": "code",
        "colab": {
          "base_uri": "https://localhost:8080/",
          "height": 221
        },
        "outputId": "572327f2-ce99-43e3-d10e-1c2ae792f2be"
      },
      "source": [
        "def fibonacci(n):\n",
        "    if n==0:\n",
        "        return 0\n",
        "    if(n == 1):\n",
        "        return 1\n",
        "    elif(n>=2) :\n",
        "        return(fibonacci(n-1) + fibonacci(n-2))\n",
        "n = int(input(\"Enter the number of terms:\"))\n",
        "print(\"The Fibonacci sequence is:\")\n",
        "for i in range(n):\n",
        "    print (fibonacci(i))\n",
        "\n"
      ],
      "execution_count": null,
      "outputs": [
        {
          "output_type": "stream",
          "text": [
            "Enter the number of terms:10\n",
            "The Fibonacci sequence is:\n",
            "0\n",
            "1\n",
            "1\n",
            "2\n",
            "3\n",
            "5\n",
            "8\n",
            "13\n",
            "21\n",
            "34\n"
          ],
          "name": "stdout"
        }
      ]
    }
  ]
}