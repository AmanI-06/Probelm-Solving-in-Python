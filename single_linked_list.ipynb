{
  "nbformat": 4,
  "nbformat_minor": 0,
  "metadata": {
    "colab": {
      "name": "single linked list.ipynb",
      "provenance": [],
      "authorship_tag": "ABX9TyPOVUaP5XLXOnDrwqvj2jOt",
      "include_colab_link": true
    },
    "kernelspec": {
      "name": "python3",
      "display_name": "Python 3"
    }
  },
  "cells": [
    {
      "cell_type": "markdown",
      "metadata": {
        "id": "view-in-github",
        "colab_type": "text"
      },
      "source": [
        "<a href=\"https://colab.research.google.com/github/AmanI-06/Probelm-Solving-in-Python/blob/master/single_linked_list.ipynb\" target=\"_parent\"><img src=\"https://colab.research.google.com/assets/colab-badge.svg\" alt=\"Open In Colab\"/></a>"
      ]
    },
    {
      "cell_type": "code",
      "metadata": {
        "id": "l2nVyifmN44K",
        "colab_type": "code",
        "colab": {
          "base_uri": "https://localhost:8080/",
          "height": 68
        },
        "outputId": "b884253e-984e-470a-fb54-1ac67e26f5ee"
      },
      "source": [
        "class Node:\n",
        "    def __init__(self, data):\n",
        "        self.data = data\n",
        "        self.next = None\n",
        " \n",
        " \n",
        "class LinkedList:\n",
        "    def __init__(self):\n",
        "        self.head = None\n",
        "        self.last_node = None\n",
        " \n",
        "    def append(self, data):\n",
        "        if self.last_node is None:\n",
        "            self.head = Node(data)\n",
        "            self.last_node = self.head\n",
        "        else:\n",
        "            self.last_node.next = Node(data)\n",
        "            self.last_node = self.last_node.next\n",
        " \n",
        " \n",
        "def length_llist(llist):\n",
        "    length = 0\n",
        "    temp = llist.head\n",
        "    while temp:\n",
        "        temp = temp.next\n",
        "        length = length + 1\n",
        "    return length\n",
        " \n",
        " \n",
        "def return_n_from_last(llist, n):\n",
        "    l = length_llist(llist)\n",
        "    temp = llist.head\n",
        "    for i in range(l - n):\n",
        "        temp = temp.next\n",
        "    return temp.data\n",
        " \n",
        " \n",
        "sll = LinkedList()\n",
        "data_list = input('Please enter the elements in the linked list: ').split()\n",
        "for data in data_list:\n",
        "    sll.append(int(data))\n",
        " \n",
        "n = int(input('The nth element from the end will be printed. Please enter n: '))\n",
        "value = return_n_from_last(sll, n)\n",
        " \n",
        "print('The nth element from the end: {}'.format(value))"
      ],
      "execution_count": null,
      "outputs": [
        {
          "output_type": "stream",
          "text": [
            "Please enter the elements in the linked list: 10 20 30 40 \n",
            "The nth element from the end will be printed. Please enter n: 3\n",
            "The nth element from the end: 20\n"
          ],
          "name": "stdout"
        }
      ]
    }
  ]
}