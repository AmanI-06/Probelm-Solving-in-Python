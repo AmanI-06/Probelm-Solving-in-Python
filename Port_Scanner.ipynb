{
  "nbformat": 4,
  "nbformat_minor": 0,
  "metadata": {
    "colab": {
      "name": "Port Scanner",
      "provenance": [],
      "authorship_tag": "ABX9TyPFocoAo7EEO3UyLTYRb64U",
      "include_colab_link": true
    },
    "kernelspec": {
      "name": "python3",
      "display_name": "Python 3"
    }
  },
  "cells": [
    {
      "cell_type": "markdown",
      "metadata": {
        "id": "view-in-github",
        "colab_type": "text"
      },
      "source": [
        "<a href=\"https://colab.research.google.com/github/AmanI-06/Probelm-Solving-in-Python/blob/master/Port_Scanner.ipynb\" target=\"_parent\"><img src=\"https://colab.research.google.com/assets/colab-badge.svg\" alt=\"Open In Colab\"/></a>"
      ]
    },
    {
      "cell_type": "code",
      "metadata": {
        "id": "GipQ7XCeEvNh",
        "colab_type": "code",
        "colab": {}
      },
      "source": [
        "import socket\n",
        "import subprocess\n",
        "import sys\n",
        "from datetime import datetime\n",
        "subprocess.call('clear', shell=True)\n",
        "remoteServer    = input(\"Enter a remote host to scan: \")\n",
        "remoteServerIPAdd  = socket.gethostbyname(remoteServer)\n",
        "print (\"Please wait, scanning remote host\", remoteServerIPAdd)\n",
        "tstart=datetime.now()\n",
        "try:\n",
        "    for port in range(1,1025):  \n",
        "        sock = socket.socket(socket.AF_INET, socket.SOCK_STREAM)\n",
        "        result = sock.connect_ex((remoteServerIPAdd, port))\n",
        "        if result == 0:\n",
        "            print (\"Port {}: \t Open\".format(port))\n",
        "        sock.close()\n",
        "except KeyboardInterrupt:\n",
        "    print (\"You pressed Ctrl+C\")\n",
        "    sys.exit()\n",
        "except socket.gaierror:\n",
        "    print ('Hostname could not be resolved. Exiting')\n",
        "    sys.exit()\n",
        "except socket.error:\n",
        "    print (\"Couldn't connect to server\")\n",
        "    sys.exit()\n",
        "tend = datetime.now()\n",
        "time =  tstart - tend\n",
        "print ('Scanning Completed in: ', time)\n"
      ],
      "execution_count": null,
      "outputs": []
    },
    {
      "cell_type": "code",
      "metadata": {
        "id": "3LMNR_93E45h",
        "colab_type": "code",
        "colab": {}
      },
      "source": [
        ""
      ],
      "execution_count": null,
      "outputs": []
    }
  ]
}