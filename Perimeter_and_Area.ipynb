{
  "nbformat": 4,
  "nbformat_minor": 0,
  "metadata": {
    "colab": {
      "name": "Perimeter and Area",
      "provenance": [],
      "authorship_tag": "ABX9TyPgpGI65vLpskFadqCm9gNj",
      "include_colab_link": true
    },
    "kernelspec": {
      "name": "python3",
      "display_name": "Python 3"
    }
  },
  "cells": [
    {
      "cell_type": "markdown",
      "metadata": {
        "id": "view-in-github",
        "colab_type": "text"
      },
      "source": [
        "<a href=\"https://colab.research.google.com/github/AmanI-06/Probelm-Solving-in-Python/blob/master/Perimeter_and_Area.ipynb\" target=\"_parent\"><img src=\"https://colab.research.google.com/assets/colab-badge.svg\" alt=\"Open In Colab\"/></a>"
      ]
    },
    {
      "cell_type": "code",
      "metadata": {
        "id": "0UeAmyE3LkoY",
        "colab_type": "code",
        "colab": {
          "base_uri": "https://localhost:8080/",
          "height": 85
        },
        "outputId": "6ce866a4-392e-45ae-83ee-a073e816ed38"
      },
      "source": [
        "import math\n",
        "\n",
        "class Shape(object):\n",
        "    def __init__(self):\n",
        "        self.area = 0.0\n",
        "        self.perimeter = 0.0\n",
        "    def calc_area(self):\n",
        "        pass\n",
        "    def calc_perimeter(self):\n",
        "        pass\n",
        "class Rectangle(Shape):\n",
        "    def __init__(self, w, l):\n",
        "        super(Rectangle, self).__init__()\n",
        "        self.w = w\n",
        "        self.l = l\n",
        "    def calc_area(self):\n",
        "        self.area = self.w * self.l\n",
        "        return self.area\n",
        "    def calc_perimeter(self):\n",
        "        self.perimeter = 2 * self.w + 2 * self.l\n",
        "        return self.perimeter\n",
        "class Circle(Shape):\n",
        "    def __init__(self, r):\n",
        "        super(Circle, self).__init__()\n",
        "        self.r = r\n",
        "    def calc_area(self):\n",
        "        self.area = math.pi * (self.r ** 2)\n",
        "        return self.area\n",
        "    def calc_perimeter(self):\n",
        "        self.perimeter = 2 * math.pi * self.r\n",
        "        return self.perimeter\n",
        "class Triangle(Shape):\n",
        "    def __init__(self, b, s2, s3, h):\n",
        "        self.b = b\n",
        "        self.s2 = s2\n",
        "        self.s3 = s3\n",
        "        self.h = h\n",
        "    def calc_area(self):\n",
        "        self.area = 0.5 * self.b * self.h\n",
        "        return self.area\n",
        "    def calc_perimeter(self):\n",
        "        self.perimeter = self.b + self.s2 + self.s3\n",
        "        return self.perimeter\n",
        "class Rhombus(Shape):\n",
        "    def __init__(self, dia1,dia2,side):\n",
        "        super(Rhombus, self).__init__()\n",
        "        self.dia1= dia1\n",
        "        self.dia2 = dia2\n",
        "        self.side=side\n",
        "    def calc_area(self): \n",
        "        self.area = (self.dia1* self.dia2)/2\n",
        "        return self.area\n",
        "    def calc_perimeter(self):  \n",
        "        self.perimeter = 4*self.side\n",
        "        return self.perimeter\n",
        "\n",
        "\n",
        "\n",
        "s = Rectangle(100, 200)\n",
        "print (\"Rectangle - area: %.2f\\tperimeter: %.2f\" % (s.calc_area(), s.calc_perimeter()))\n",
        "\n",
        "c = Circle(25.6789)\n",
        "print (\"Circle - area: %.2f\\tperimeter: %.2f\" % (c.calc_area(), c.calc_perimeter()))\n",
        "\n",
        "t = Triangle(10,12, 22.765, 10)\n",
        "print (\"Triangle - area: %.2f\\tperimeter: %.2f\" % (t.calc_area(), t.calc_perimeter()))\n",
        "\n",
        "r=  Rhombus(5,6,7)\n",
        "print (\"Rhombus - area: %.2f\\tperimeter: %.2f\" % (r.calc_area(), r.calc_perimeter()))\n",
        "\n"
      ],
      "execution_count": null,
      "outputs": [
        {
          "output_type": "stream",
          "text": [
            "Rectangle - area: 20000.00\tperimeter: 600.00\n",
            "Circle - area: 2071.58\tperimeter: 161.35\n",
            "Triangle - area: 50.00\tperimeter: 44.77\n",
            "Rhombus - area: 15.00\tperimeter: 28.00\n"
          ],
          "name": "stdout"
        }
      ]
    }
  ]
}